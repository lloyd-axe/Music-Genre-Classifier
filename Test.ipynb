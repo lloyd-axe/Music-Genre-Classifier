{
 "cells": [
  {
   "cell_type": "code",
   "execution_count": 2,
   "id": "57bdc33d",
   "metadata": {},
   "outputs": [],
   "source": [
    "import os\n",
    "import time\n",
    "import math\n",
    "import json\n",
    "import librosa\n",
    "import numpy as np\n",
    "import tensorflow as tf\n",
    "import matplotlib.pyplot as plt\n",
    "\n",
    "from tensorflow.keras.models import Sequential\n",
    "from tensorflow.keras.utils import to_categorical\n",
    "from sklearn.model_selection import train_test_split\n",
    "from keras.callbacks import ModelCheckpoint, EarlyStopping, CSVLogger\n",
    "from tensorflow.keras.layers import BatchNormalization, Conv2D, Dense, Dropout, Flatten, MaxPool2D\n"
   ]
  },
  {
   "cell_type": "code",
   "execution_count": 3,
   "id": "f47f9db3",
   "metadata": {},
   "outputs": [],
   "source": [
    "DATA_PATH = r'C:\\Users\\Lloyd Acha\\Documents\\ACHA_Files\\Projects\\Programming\\DataSets\\GTZAN Dataset - Music Genre Classification\\Data'\n",
    "AUDIO_PATH = os.path.join(DATA_PATH,'genres_original')\n",
    "JSON_PATH = 'mfcc_data.json'"
   ]
  },
  {
   "cell_type": "code",
   "execution_count": 4,
   "id": "f9f7d23d",
   "metadata": {},
   "outputs": [
    {
     "name": "stdout",
     "output_type": "stream",
     "text": [
      "Processing blues...\n",
      "blues.00000.wav-0\n",
      "blues.00000.wav-1\n",
      "blues.00000.wav-2\n",
      "blues.00000.wav-3\n",
      "blues.00000.wav-4\n",
      "blues.00001.wav-0\n",
      "blues.00001.wav-1\n",
      "blues.00001.wav-2\n",
      "blues.00001.wav-3\n",
      "blues.00001.wav-4\n",
      "blues.00002.wav-0\n",
      "blues.00002.wav-1\n",
      "blues.00002.wav-2\n",
      "blues.00002.wav-3\n",
      "blues.00002.wav-4\n",
      "blues.00003.wav-0\n",
      "blues.00003.wav-1\n",
      "blues.00003.wav-2\n",
      "blues.00003.wav-3\n",
      "blues.00003.wav-4\n",
      "blues.00004.wav-0\n",
      "blues.00004.wav-1\n",
      "blues.00004.wav-2\n",
      "blues.00004.wav-3\n",
      "blues.00004.wav-4\n",
      "blues.00005.wav-0\n",
      "blues.00005.wav-1\n",
      "blues.00005.wav-2\n",
      "blues.00005.wav-3\n",
      "blues.00005.wav-4\n",
      "blues.00006.wav-0\n",
      "blues.00006.wav-1\n",
      "blues.00006.wav-2\n",
      "blues.00006.wav-3\n",
      "blues.00006.wav-4\n",
      "blues.00007.wav-0\n",
      "blues.00007.wav-1\n",
      "blues.00007.wav-2\n",
      "blues.00007.wav-3\n",
      "blues.00007.wav-4\n",
      "blues.00008.wav-0\n",
      "blues.00008.wav-1\n",
      "blues.00008.wav-2\n",
      "blues.00008.wav-3\n",
      "blues.00008.wav-4\n",
      "blues.00009.wav-0\n",
      "blues.00009.wav-1\n",
      "blues.00009.wav-2\n",
      "blues.00009.wav-3\n",
      "blues.00009.wav-4\n",
      "blues.00010.wav-0\n",
      "blues.00010.wav-1\n",
      "blues.00010.wav-2\n",
      "blues.00010.wav-3\n",
      "blues.00010.wav-4\n",
      "blues.00011.wav-0\n",
      "blues.00011.wav-1\n",
      "blues.00011.wav-2\n",
      "blues.00011.wav-3\n",
      "blues.00011.wav-4\n",
      "blues.00012.wav-0\n",
      "blues.00012.wav-1\n",
      "blues.00012.wav-2\n",
      "blues.00012.wav-3\n",
      "blues.00012.wav-4\n",
      "blues.00013.wav-0\n",
      "blues.00013.wav-1\n",
      "blues.00013.wav-2\n",
      "blues.00013.wav-3\n",
      "blues.00013.wav-4\n",
      "blues.00014.wav-0\n",
      "blues.00014.wav-1\n",
      "blues.00014.wav-2\n",
      "blues.00014.wav-3\n",
      "blues.00014.wav-4\n",
      "blues.00015.wav-0\n",
      "blues.00015.wav-1\n",
      "blues.00015.wav-2\n",
      "blues.00015.wav-3\n",
      "blues.00015.wav-4\n",
      "blues.00016.wav-0\n",
      "blues.00016.wav-1\n",
      "blues.00016.wav-2\n",
      "blues.00016.wav-3\n",
      "blues.00016.wav-4\n",
      "blues.00017.wav-0\n",
      "blues.00017.wav-1\n",
      "blues.00017.wav-2\n",
      "blues.00017.wav-3\n",
      "blues.00017.wav-4\n",
      "blues.00018.wav-0\n",
      "blues.00018.wav-1\n",
      "blues.00018.wav-2\n",
      "blues.00018.wav-3\n",
      "blues.00018.wav-4\n",
      "blues.00019.wav-0\n",
      "blues.00019.wav-1\n",
      "blues.00019.wav-2\n",
      "blues.00019.wav-3\n",
      "blues.00019.wav-4\n",
      "blues.00020.wav-0\n",
      "blues.00020.wav-1\n",
      "blues.00020.wav-2\n",
      "blues.00020.wav-3\n",
      "blues.00020.wav-4\n",
      "blues.00021.wav-0\n",
      "blues.00021.wav-1\n",
      "blues.00021.wav-2\n",
      "blues.00021.wav-3\n",
      "blues.00021.wav-4\n",
      "blues.00022.wav-0\n",
      "blues.00022.wav-1\n",
      "blues.00022.wav-2\n",
      "blues.00022.wav-3\n",
      "blues.00022.wav-4\n",
      "blues.00023.wav-0\n",
      "blues.00023.wav-1\n",
      "blues.00023.wav-2\n",
      "blues.00023.wav-3\n",
      "blues.00023.wav-4\n",
      "blues.00024.wav-0\n",
      "blues.00024.wav-1\n",
      "blues.00024.wav-2\n",
      "blues.00024.wav-3\n",
      "blues.00024.wav-4\n",
      "blues.00025.wav-0\n",
      "blues.00025.wav-1\n",
      "blues.00025.wav-2\n",
      "blues.00025.wav-3\n",
      "blues.00025.wav-4\n",
      "blues.00026.wav-0\n",
      "blues.00026.wav-1\n",
      "blues.00026.wav-2\n",
      "blues.00026.wav-3\n",
      "blues.00026.wav-4\n",
      "blues.00027.wav-0\n",
      "blues.00027.wav-1\n",
      "blues.00027.wav-2\n",
      "blues.00027.wav-3\n",
      "blues.00027.wav-4\n",
      "blues.00028.wav-0\n",
      "blues.00028.wav-1\n",
      "blues.00028.wav-2\n",
      "blues.00028.wav-3\n",
      "blues.00028.wav-4\n",
      "blues.00029.wav-0\n",
      "blues.00029.wav-1\n",
      "blues.00029.wav-2\n",
      "blues.00029.wav-3\n",
      "blues.00029.wav-4\n",
      "blues.00030.wav-0\n",
      "blues.00030.wav-1\n",
      "blues.00030.wav-2\n",
      "blues.00030.wav-3\n",
      "blues.00030.wav-4\n",
      "blues.00031.wav-0\n",
      "blues.00031.wav-1\n",
      "blues.00031.wav-2\n",
      "blues.00031.wav-3\n",
      "blues.00031.wav-4\n",
      "blues.00032.wav-0\n",
      "blues.00032.wav-1\n",
      "blues.00032.wav-2\n",
      "blues.00032.wav-3\n",
      "blues.00032.wav-4\n",
      "blues.00033.wav-0\n",
      "blues.00033.wav-1\n"
     ]
    },
    {
     "ename": "KeyboardInterrupt",
     "evalue": "",
     "output_type": "error",
     "traceback": [
      "\u001b[1;31m---------------------------------------------------------------------------\u001b[0m",
      "\u001b[1;31mKeyboardInterrupt\u001b[0m                         Traceback (most recent call last)",
      "Input \u001b[1;32mIn [4]\u001b[0m, in \u001b[0;36m<module>\u001b[1;34m\u001b[0m\n\u001b[0;32m     27\u001b[0m s_samp \u001b[38;5;241m=\u001b[39m samp_p_seg \u001b[38;5;241m*\u001b[39m s\n\u001b[0;32m     28\u001b[0m f_samp \u001b[38;5;241m=\u001b[39m s_samp \u001b[38;5;241m+\u001b[39m samp_p_seg\n\u001b[1;32m---> 30\u001b[0m mfcc \u001b[38;5;241m=\u001b[39m \u001b[43mlibrosa\u001b[49m\u001b[38;5;241;43m.\u001b[39;49m\u001b[43mfeature\u001b[49m\u001b[38;5;241;43m.\u001b[39;49m\u001b[43mmfcc\u001b[49m\u001b[43m(\u001b[49m\n\u001b[0;32m     31\u001b[0m \u001b[43m    \u001b[49m\u001b[43my\u001b[49m\u001b[43m \u001b[49m\u001b[38;5;241;43m=\u001b[39;49m\u001b[43m \u001b[49m\u001b[43msignal\u001b[49m\u001b[43m[\u001b[49m\u001b[43ms_samp\u001b[49m\u001b[43m:\u001b[49m\u001b[43mf_samp\u001b[49m\u001b[43m]\u001b[49m\u001b[43m,\u001b[49m\u001b[43m \u001b[49m\u001b[43msr\u001b[49m\u001b[43m \u001b[49m\u001b[38;5;241;43m=\u001b[39;49m\u001b[43m \u001b[49m\u001b[43msr\u001b[49m\u001b[43m,\u001b[49m\u001b[43m \u001b[49m\u001b[43mn_mfcc\u001b[49m\u001b[43m \u001b[49m\u001b[38;5;241;43m=\u001b[39;49m\u001b[43m \u001b[49m\u001b[43mn_mfcc\u001b[49m\u001b[43m,\u001b[49m\u001b[43m \u001b[49m\n\u001b[0;32m     32\u001b[0m \u001b[43m    \u001b[49m\u001b[43mn_fft\u001b[49m\u001b[43m \u001b[49m\u001b[38;5;241;43m=\u001b[39;49m\u001b[43m \u001b[49m\u001b[43mn_fft\u001b[49m\u001b[43m,\u001b[49m\u001b[43m \u001b[49m\u001b[43mhop_length\u001b[49m\u001b[43m \u001b[49m\u001b[38;5;241;43m=\u001b[39;49m\u001b[43m \u001b[49m\u001b[43mhop_len\u001b[49m\u001b[43m)\u001b[49m\n\u001b[0;32m     33\u001b[0m mfcc \u001b[38;5;241m=\u001b[39m mfcc\u001b[38;5;241m.\u001b[39mT\n\u001b[0;32m     34\u001b[0m \u001b[38;5;28;01mif\u001b[39;00m \u001b[38;5;28mlen\u001b[39m(mfcc) \u001b[38;5;241m==\u001b[39m mfcc_p_seg:\n",
      "File \u001b[1;32m~\\AppData\\Local\\Programs\\Python\\Python39\\lib\\site-packages\\librosa\\util\\decorators.py:88\u001b[0m, in \u001b[0;36mdeprecate_positional_args.<locals>._inner_deprecate_positional_args.<locals>.inner_f\u001b[1;34m(*args, **kwargs)\u001b[0m\n\u001b[0;32m     86\u001b[0m extra_args \u001b[38;5;241m=\u001b[39m \u001b[38;5;28mlen\u001b[39m(args) \u001b[38;5;241m-\u001b[39m \u001b[38;5;28mlen\u001b[39m(all_args)\n\u001b[0;32m     87\u001b[0m \u001b[38;5;28;01mif\u001b[39;00m extra_args \u001b[38;5;241m<\u001b[39m\u001b[38;5;241m=\u001b[39m \u001b[38;5;241m0\u001b[39m:\n\u001b[1;32m---> 88\u001b[0m     \u001b[38;5;28;01mreturn\u001b[39;00m f(\u001b[38;5;241m*\u001b[39margs, \u001b[38;5;241m*\u001b[39m\u001b[38;5;241m*\u001b[39mkwargs)\n\u001b[0;32m     90\u001b[0m \u001b[38;5;66;03m# extra_args > 0\u001b[39;00m\n\u001b[0;32m     91\u001b[0m args_msg \u001b[38;5;241m=\u001b[39m [\n\u001b[0;32m     92\u001b[0m     \u001b[38;5;124m\"\u001b[39m\u001b[38;5;132;01m{}\u001b[39;00m\u001b[38;5;124m=\u001b[39m\u001b[38;5;132;01m{}\u001b[39;00m\u001b[38;5;124m\"\u001b[39m\u001b[38;5;241m.\u001b[39mformat(name, arg)\n\u001b[0;32m     93\u001b[0m     \u001b[38;5;28;01mfor\u001b[39;00m name, arg \u001b[38;5;129;01min\u001b[39;00m \u001b[38;5;28mzip\u001b[39m(kwonly_args[:extra_args], args[\u001b[38;5;241m-\u001b[39mextra_args:])\n\u001b[0;32m     94\u001b[0m ]\n",
      "File \u001b[1;32m~\\AppData\\Local\\Programs\\Python\\Python39\\lib\\site-packages\\librosa\\feature\\spectral.py:1903\u001b[0m, in \u001b[0;36mmfcc\u001b[1;34m(y, sr, S, n_mfcc, dct_type, norm, lifter, **kwargs)\u001b[0m\n\u001b[0;32m   1784\u001b[0m \u001b[38;5;124;03m\"\"\"Mel-frequency cepstral coefficients (MFCCs)\u001b[39;00m\n\u001b[0;32m   1785\u001b[0m \n\u001b[0;32m   1786\u001b[0m \u001b[38;5;124;03m.. warning:: If multi-channel audio input ``y`` is provided, the MFCC\u001b[39;00m\n\u001b[1;32m   (...)\u001b[0m\n\u001b[0;32m   1898\u001b[0m \u001b[38;5;124;03m>>> fig.colorbar(img2, ax=[ax[1]])\u001b[39;00m\n\u001b[0;32m   1899\u001b[0m \u001b[38;5;124;03m\"\"\"\u001b[39;00m\n\u001b[0;32m   1901\u001b[0m \u001b[38;5;28;01mif\u001b[39;00m S \u001b[38;5;129;01mis\u001b[39;00m \u001b[38;5;28;01mNone\u001b[39;00m:\n\u001b[0;32m   1902\u001b[0m     \u001b[38;5;66;03m# multichannel behavior may be different due to relative noise floor differences between channels\u001b[39;00m\n\u001b[1;32m-> 1903\u001b[0m     S \u001b[38;5;241m=\u001b[39m power_to_db(melspectrogram(y\u001b[38;5;241m=\u001b[39my, sr\u001b[38;5;241m=\u001b[39msr, \u001b[38;5;241m*\u001b[39m\u001b[38;5;241m*\u001b[39mkwargs))\n\u001b[0;32m   1905\u001b[0m M \u001b[38;5;241m=\u001b[39m scipy\u001b[38;5;241m.\u001b[39mfftpack\u001b[38;5;241m.\u001b[39mdct(S, axis\u001b[38;5;241m=\u001b[39m\u001b[38;5;241m-\u001b[39m\u001b[38;5;241m2\u001b[39m, \u001b[38;5;28mtype\u001b[39m\u001b[38;5;241m=\u001b[39mdct_type, norm\u001b[38;5;241m=\u001b[39mnorm)[\u001b[38;5;241m.\u001b[39m\u001b[38;5;241m.\u001b[39m\u001b[38;5;241m.\u001b[39m, :n_mfcc, :]\n\u001b[0;32m   1907\u001b[0m \u001b[38;5;28;01mif\u001b[39;00m lifter \u001b[38;5;241m>\u001b[39m \u001b[38;5;241m0\u001b[39m:\n\u001b[0;32m   1908\u001b[0m     \u001b[38;5;66;03m# shape lifter for broadcasting\u001b[39;00m\n",
      "File \u001b[1;32m~\\AppData\\Local\\Programs\\Python\\Python39\\lib\\site-packages\\librosa\\util\\decorators.py:88\u001b[0m, in \u001b[0;36mdeprecate_positional_args.<locals>._inner_deprecate_positional_args.<locals>.inner_f\u001b[1;34m(*args, **kwargs)\u001b[0m\n\u001b[0;32m     86\u001b[0m extra_args \u001b[38;5;241m=\u001b[39m \u001b[38;5;28mlen\u001b[39m(args) \u001b[38;5;241m-\u001b[39m \u001b[38;5;28mlen\u001b[39m(all_args)\n\u001b[0;32m     87\u001b[0m \u001b[38;5;28;01mif\u001b[39;00m extra_args \u001b[38;5;241m<\u001b[39m\u001b[38;5;241m=\u001b[39m \u001b[38;5;241m0\u001b[39m:\n\u001b[1;32m---> 88\u001b[0m     \u001b[38;5;28;01mreturn\u001b[39;00m f(\u001b[38;5;241m*\u001b[39margs, \u001b[38;5;241m*\u001b[39m\u001b[38;5;241m*\u001b[39mkwargs)\n\u001b[0;32m     90\u001b[0m \u001b[38;5;66;03m# extra_args > 0\u001b[39;00m\n\u001b[0;32m     91\u001b[0m args_msg \u001b[38;5;241m=\u001b[39m [\n\u001b[0;32m     92\u001b[0m     \u001b[38;5;124m\"\u001b[39m\u001b[38;5;132;01m{}\u001b[39;00m\u001b[38;5;124m=\u001b[39m\u001b[38;5;132;01m{}\u001b[39;00m\u001b[38;5;124m\"\u001b[39m\u001b[38;5;241m.\u001b[39mformat(name, arg)\n\u001b[0;32m     93\u001b[0m     \u001b[38;5;28;01mfor\u001b[39;00m name, arg \u001b[38;5;129;01min\u001b[39;00m \u001b[38;5;28mzip\u001b[39m(kwonly_args[:extra_args], args[\u001b[38;5;241m-\u001b[39mextra_args:])\n\u001b[0;32m     94\u001b[0m ]\n",
      "File \u001b[1;32m~\\AppData\\Local\\Programs\\Python\\Python39\\lib\\site-packages\\librosa\\feature\\spectral.py:2043\u001b[0m, in \u001b[0;36mmelspectrogram\u001b[1;34m(y, sr, S, n_fft, hop_length, win_length, window, center, pad_mode, power, **kwargs)\u001b[0m\n\u001b[0;32m   1922\u001b[0m \u001b[38;5;129m@deprecate_positional_args\u001b[39m\n\u001b[0;32m   1923\u001b[0m \u001b[38;5;28;01mdef\u001b[39;00m \u001b[38;5;21mmelspectrogram\u001b[39m(\n\u001b[0;32m   1924\u001b[0m     \u001b[38;5;241m*\u001b[39m,\n\u001b[1;32m   (...)\u001b[0m\n\u001b[0;32m   1935\u001b[0m     \u001b[38;5;241m*\u001b[39m\u001b[38;5;241m*\u001b[39mkwargs,\n\u001b[0;32m   1936\u001b[0m ):\n\u001b[0;32m   1937\u001b[0m     \u001b[38;5;124;03m\"\"\"Compute a mel-scaled spectrogram.\u001b[39;00m\n\u001b[0;32m   1938\u001b[0m \n\u001b[0;32m   1939\u001b[0m \u001b[38;5;124;03m    If a spectrogram input ``S`` is provided, then it is mapped directly onto\u001b[39;00m\n\u001b[1;32m   (...)\u001b[0m\n\u001b[0;32m   2040\u001b[0m \u001b[38;5;124;03m    >>> ax.set(title='Mel-frequency spectrogram')\u001b[39;00m\n\u001b[0;32m   2041\u001b[0m \u001b[38;5;124;03m    \"\"\"\u001b[39;00m\n\u001b[1;32m-> 2043\u001b[0m     S, n_fft \u001b[38;5;241m=\u001b[39m \u001b[43m_spectrogram\u001b[49m\u001b[43m(\u001b[49m\n\u001b[0;32m   2044\u001b[0m \u001b[43m        \u001b[49m\u001b[43my\u001b[49m\u001b[38;5;241;43m=\u001b[39;49m\u001b[43my\u001b[49m\u001b[43m,\u001b[49m\n\u001b[0;32m   2045\u001b[0m \u001b[43m        \u001b[49m\u001b[43mS\u001b[49m\u001b[38;5;241;43m=\u001b[39;49m\u001b[43mS\u001b[49m\u001b[43m,\u001b[49m\n\u001b[0;32m   2046\u001b[0m \u001b[43m        \u001b[49m\u001b[43mn_fft\u001b[49m\u001b[38;5;241;43m=\u001b[39;49m\u001b[43mn_fft\u001b[49m\u001b[43m,\u001b[49m\n\u001b[0;32m   2047\u001b[0m \u001b[43m        \u001b[49m\u001b[43mhop_length\u001b[49m\u001b[38;5;241;43m=\u001b[39;49m\u001b[43mhop_length\u001b[49m\u001b[43m,\u001b[49m\n\u001b[0;32m   2048\u001b[0m \u001b[43m        \u001b[49m\u001b[43mpower\u001b[49m\u001b[38;5;241;43m=\u001b[39;49m\u001b[43mpower\u001b[49m\u001b[43m,\u001b[49m\n\u001b[0;32m   2049\u001b[0m \u001b[43m        \u001b[49m\u001b[43mwin_length\u001b[49m\u001b[38;5;241;43m=\u001b[39;49m\u001b[43mwin_length\u001b[49m\u001b[43m,\u001b[49m\n\u001b[0;32m   2050\u001b[0m \u001b[43m        \u001b[49m\u001b[43mwindow\u001b[49m\u001b[38;5;241;43m=\u001b[39;49m\u001b[43mwindow\u001b[49m\u001b[43m,\u001b[49m\n\u001b[0;32m   2051\u001b[0m \u001b[43m        \u001b[49m\u001b[43mcenter\u001b[49m\u001b[38;5;241;43m=\u001b[39;49m\u001b[43mcenter\u001b[49m\u001b[43m,\u001b[49m\n\u001b[0;32m   2052\u001b[0m \u001b[43m        \u001b[49m\u001b[43mpad_mode\u001b[49m\u001b[38;5;241;43m=\u001b[39;49m\u001b[43mpad_mode\u001b[49m\u001b[43m,\u001b[49m\n\u001b[0;32m   2053\u001b[0m \u001b[43m    \u001b[49m\u001b[43m)\u001b[49m\n\u001b[0;32m   2055\u001b[0m     \u001b[38;5;66;03m# Build a Mel filter\u001b[39;00m\n\u001b[0;32m   2056\u001b[0m     mel_basis \u001b[38;5;241m=\u001b[39m filters\u001b[38;5;241m.\u001b[39mmel(sr\u001b[38;5;241m=\u001b[39msr, n_fft\u001b[38;5;241m=\u001b[39mn_fft, \u001b[38;5;241m*\u001b[39m\u001b[38;5;241m*\u001b[39mkwargs)\n",
      "File \u001b[1;32m~\\AppData\\Local\\Programs\\Python\\Python39\\lib\\site-packages\\librosa\\core\\spectrum.py:2553\u001b[0m, in \u001b[0;36m_spectrogram\u001b[1;34m(y, S, n_fft, hop_length, power, win_length, window, center, pad_mode)\u001b[0m\n\u001b[0;32m   2548\u001b[0m         n_fft \u001b[38;5;241m=\u001b[39m \u001b[38;5;241m2\u001b[39m \u001b[38;5;241m*\u001b[39m (S\u001b[38;5;241m.\u001b[39mshape[\u001b[38;5;241m-\u001b[39m\u001b[38;5;241m2\u001b[39m] \u001b[38;5;241m-\u001b[39m \u001b[38;5;241m1\u001b[39m)\n\u001b[0;32m   2549\u001b[0m \u001b[38;5;28;01melse\u001b[39;00m:\n\u001b[0;32m   2550\u001b[0m     \u001b[38;5;66;03m# Otherwise, compute a magnitude spectrogram from input\u001b[39;00m\n\u001b[0;32m   2551\u001b[0m     S \u001b[38;5;241m=\u001b[39m (\n\u001b[0;32m   2552\u001b[0m         np\u001b[38;5;241m.\u001b[39mabs(\n\u001b[1;32m-> 2553\u001b[0m             \u001b[43mstft\u001b[49m\u001b[43m(\u001b[49m\n\u001b[0;32m   2554\u001b[0m \u001b[43m                \u001b[49m\u001b[43my\u001b[49m\u001b[43m,\u001b[49m\n\u001b[0;32m   2555\u001b[0m \u001b[43m                \u001b[49m\u001b[43mn_fft\u001b[49m\u001b[38;5;241;43m=\u001b[39;49m\u001b[43mn_fft\u001b[49m\u001b[43m,\u001b[49m\n\u001b[0;32m   2556\u001b[0m \u001b[43m                \u001b[49m\u001b[43mhop_length\u001b[49m\u001b[38;5;241;43m=\u001b[39;49m\u001b[43mhop_length\u001b[49m\u001b[43m,\u001b[49m\n\u001b[0;32m   2557\u001b[0m \u001b[43m                \u001b[49m\u001b[43mwin_length\u001b[49m\u001b[38;5;241;43m=\u001b[39;49m\u001b[43mwin_length\u001b[49m\u001b[43m,\u001b[49m\n\u001b[0;32m   2558\u001b[0m \u001b[43m                \u001b[49m\u001b[43mcenter\u001b[49m\u001b[38;5;241;43m=\u001b[39;49m\u001b[43mcenter\u001b[49m\u001b[43m,\u001b[49m\n\u001b[0;32m   2559\u001b[0m \u001b[43m                \u001b[49m\u001b[43mwindow\u001b[49m\u001b[38;5;241;43m=\u001b[39;49m\u001b[43mwindow\u001b[49m\u001b[43m,\u001b[49m\n\u001b[0;32m   2560\u001b[0m \u001b[43m                \u001b[49m\u001b[43mpad_mode\u001b[49m\u001b[38;5;241;43m=\u001b[39;49m\u001b[43mpad_mode\u001b[49m\u001b[43m,\u001b[49m\n\u001b[0;32m   2561\u001b[0m \u001b[43m            \u001b[49m\u001b[43m)\u001b[49m\n\u001b[0;32m   2562\u001b[0m         )\n\u001b[0;32m   2563\u001b[0m         \u001b[38;5;241m*\u001b[39m\u001b[38;5;241m*\u001b[39m power\n\u001b[0;32m   2564\u001b[0m     )\n\u001b[0;32m   2566\u001b[0m \u001b[38;5;28;01mreturn\u001b[39;00m S, n_fft\n",
      "File \u001b[1;32m~\\AppData\\Local\\Programs\\Python\\Python39\\lib\\site-packages\\librosa\\util\\decorators.py:88\u001b[0m, in \u001b[0;36mdeprecate_positional_args.<locals>._inner_deprecate_positional_args.<locals>.inner_f\u001b[1;34m(*args, **kwargs)\u001b[0m\n\u001b[0;32m     86\u001b[0m extra_args \u001b[38;5;241m=\u001b[39m \u001b[38;5;28mlen\u001b[39m(args) \u001b[38;5;241m-\u001b[39m \u001b[38;5;28mlen\u001b[39m(all_args)\n\u001b[0;32m     87\u001b[0m \u001b[38;5;28;01mif\u001b[39;00m extra_args \u001b[38;5;241m<\u001b[39m\u001b[38;5;241m=\u001b[39m \u001b[38;5;241m0\u001b[39m:\n\u001b[1;32m---> 88\u001b[0m     \u001b[38;5;28;01mreturn\u001b[39;00m f(\u001b[38;5;241m*\u001b[39margs, \u001b[38;5;241m*\u001b[39m\u001b[38;5;241m*\u001b[39mkwargs)\n\u001b[0;32m     90\u001b[0m \u001b[38;5;66;03m# extra_args > 0\u001b[39;00m\n\u001b[0;32m     91\u001b[0m args_msg \u001b[38;5;241m=\u001b[39m [\n\u001b[0;32m     92\u001b[0m     \u001b[38;5;124m\"\u001b[39m\u001b[38;5;132;01m{}\u001b[39;00m\u001b[38;5;124m=\u001b[39m\u001b[38;5;132;01m{}\u001b[39;00m\u001b[38;5;124m\"\u001b[39m\u001b[38;5;241m.\u001b[39mformat(name, arg)\n\u001b[0;32m     93\u001b[0m     \u001b[38;5;28;01mfor\u001b[39;00m name, arg \u001b[38;5;129;01min\u001b[39;00m \u001b[38;5;28mzip\u001b[39m(kwonly_args[:extra_args], args[\u001b[38;5;241m-\u001b[39mextra_args:])\n\u001b[0;32m     94\u001b[0m ]\n",
      "File \u001b[1;32m~\\AppData\\Local\\Programs\\Python\\Python39\\lib\\site-packages\\librosa\\core\\spectrum.py:255\u001b[0m, in \u001b[0;36mstft\u001b[1;34m(y, n_fft, hop_length, win_length, window, center, dtype, pad_mode)\u001b[0m\n\u001b[0;32m    251\u001b[0m \u001b[38;5;28;01mfor\u001b[39;00m bl_s \u001b[38;5;129;01min\u001b[39;00m \u001b[38;5;28mrange\u001b[39m(\u001b[38;5;241m0\u001b[39m, stft_matrix\u001b[38;5;241m.\u001b[39mshape[\u001b[38;5;241m-\u001b[39m\u001b[38;5;241m1\u001b[39m], n_columns):\n\u001b[0;32m    252\u001b[0m     bl_t \u001b[38;5;241m=\u001b[39m \u001b[38;5;28mmin\u001b[39m(bl_s \u001b[38;5;241m+\u001b[39m n_columns, stft_matrix\u001b[38;5;241m.\u001b[39mshape[\u001b[38;5;241m-\u001b[39m\u001b[38;5;241m1\u001b[39m])\n\u001b[0;32m    254\u001b[0m     stft_matrix[\u001b[38;5;241m.\u001b[39m\u001b[38;5;241m.\u001b[39m\u001b[38;5;241m.\u001b[39m, bl_s:bl_t] \u001b[38;5;241m=\u001b[39m fft\u001b[38;5;241m.\u001b[39mrfft(\n\u001b[1;32m--> 255\u001b[0m         \u001b[43mfft_window\u001b[49m\u001b[43m \u001b[49m\u001b[38;5;241;43m*\u001b[39;49m\u001b[43m \u001b[49m\u001b[43my_frames\u001b[49m\u001b[43m[\u001b[49m\u001b[38;5;241;43m.\u001b[39;49m\u001b[38;5;241;43m.\u001b[39;49m\u001b[38;5;241;43m.\u001b[39;49m\u001b[43m,\u001b[49m\u001b[43m \u001b[49m\u001b[43mbl_s\u001b[49m\u001b[43m:\u001b[49m\u001b[43mbl_t\u001b[49m\u001b[43m]\u001b[49m, axis\u001b[38;5;241m=\u001b[39m\u001b[38;5;241m-\u001b[39m\u001b[38;5;241m2\u001b[39m\n\u001b[0;32m    256\u001b[0m     )\n\u001b[0;32m    257\u001b[0m \u001b[38;5;28;01mreturn\u001b[39;00m stft_matrix\n",
      "\u001b[1;31mKeyboardInterrupt\u001b[0m: "
     ]
    }
   ],
   "source": [
    "#Prepare data\n",
    "data ={\n",
    "    'mapping' : [],\n",
    "    'mfcc' : [],\n",
    "    'labels' : []\n",
    "}\n",
    "\n",
    "sr = 22050\n",
    "duration = 30\n",
    "segments = 5\n",
    "n_mfcc = 13\n",
    "n_fft = 2048\n",
    "hop_len = 512\n",
    "samp_p_track = sr * duration\n",
    "samp_p_seg = int(samp_p_track/segments)\n",
    "mfcc_p_seg = math.ceil(samp_p_seg / hop_len)\n",
    "\n",
    "for i, (dirpath, dirname, filenames) in enumerate(os.walk(AUDIO_PATH)):\n",
    "    if dirpath is not AUDIO_PATH:\n",
    "        label = dirpath.split('\\\\')[-1]\n",
    "        data['mapping'].append(label)\n",
    "        print(f'Processing {label}...')\n",
    "        for file in filenames:\n",
    "            file_path = os.path.join(dirpath, file)\n",
    "            signal, sr = librosa.load(file_path, sr = sr)\n",
    "            for s in range(segments):\n",
    "                s_samp = samp_p_seg * s\n",
    "                f_samp = s_samp + samp_p_seg\n",
    "                \n",
    "                mfcc = librosa.feature.mfcc(\n",
    "                    y = signal[s_samp:f_samp], sr = sr, n_mfcc = n_mfcc, \n",
    "                    n_fft = n_fft, hop_length = hop_len)\n",
    "                mfcc = mfcc.T\n",
    "                if len(mfcc) == mfcc_p_seg:\n",
    "                    data['mfcc'].append(mfcc.tolist())\n",
    "                    data['labels'].append(i-1)\n",
    "                    print(f'seg: \\r{file}-{s}')\n",
    "                    \n",
    "with open(JSON_PATH, 'w') as fp:\n",
    "    json.dump(data, fp, indent=4)"
   ]
  },
  {
   "cell_type": "code",
   "execution_count": 85,
   "id": "c1753b2a",
   "metadata": {},
   "outputs": [],
   "source": [
    "#Load data\n",
    "with open(JSON_PATH,'r') as fp:\n",
    "    data = json.load(fp)\n",
    "\n"
   ]
  },
  {
   "cell_type": "code",
   "execution_count": 86,
   "id": "2b6076fb",
   "metadata": {},
   "outputs": [],
   "source": [
    "inputs = np.array(data['mfcc'])\n",
    "targets = to_categorical(np.array(data['labels']))"
   ]
  },
  {
   "cell_type": "code",
   "execution_count": 87,
   "id": "df6a3b44",
   "metadata": {},
   "outputs": [
    {
     "data": {
      "text/plain": [
       "10"
      ]
     },
     "execution_count": 87,
     "metadata": {},
     "output_type": "execute_result"
    }
   ],
   "source": [
    "np.array(data['mapping']).shape[0]"
   ]
  },
  {
   "cell_type": "code",
   "execution_count": 114,
   "id": "ed947708",
   "metadata": {},
   "outputs": [],
   "source": [
    "x_train, x_test, y_train, y_test = train_test_split(inputs, targets, test_size = 0.05)\n",
    "x_train, x_eval, y_train, y_eval = train_test_split(x_train,y_train, test_size = 0.05)\n",
    "x_train = np.expand_dims(x_train, axis=3)\n",
    "x_test = np.expand_dims(x_test, axis=3)\n",
    "x_eval = np.expand_dims(x_eval, axis=3)"
   ]
  },
  {
   "cell_type": "code",
   "execution_count": 90,
   "id": "db412240",
   "metadata": {},
   "outputs": [
    {
     "data": {
      "text/plain": [
       "(4505, 10)"
      ]
     },
     "execution_count": 90,
     "metadata": {},
     "output_type": "execute_result"
    }
   ],
   "source": [
    "y_train.shape"
   ]
  },
  {
   "cell_type": "code",
   "execution_count": 102,
   "id": "ea3b7314",
   "metadata": {},
   "outputs": [],
   "source": [
    "model = Sequential()\n",
    "model.add(Conv2D(32, (3,3),\n",
    "                activation='relu',\n",
    "                input_shape=(259,13,1)))\n",
    "model.add(MaxPool2D((3, 3), strides=(2,2,), padding='same'))\n",
    "model.add(BatchNormalization())\n",
    "model.add(Conv2D(32, (3,3),\n",
    "                activation='relu',\n",
    "                input_shape=(259,13,1)))\n",
    "model.add(MaxPool2D((3, 3), strides=(2,2,), padding='same'))\n",
    "model.add(BatchNormalization())\n",
    "model.add(Conv2D(32, (2,2),\n",
    "                activation='relu',\n",
    "                input_shape=(259,13,1)))\n",
    "model.add(MaxPool2D((2, 2), strides=(2,2,), padding='same'))\n",
    "model.add(BatchNormalization())\n",
    "model.add(Flatten())\n",
    "model.add(Dense(64,activation='relu'))\n",
    "model.add(Dense(np.array(data['mapping']).shape[0], activation='softmax'))\n",
    "model.compile(optimizer='Adam', loss='categorical_crossentropy', metrics=['categorical_accuracy'])"
   ]
  },
  {
   "cell_type": "code",
   "execution_count": 103,
   "id": "2cf29aa3",
   "metadata": {},
   "outputs": [],
   "source": [
    "CP_PATH = 'checkpoints/cp-{epoch:02d}-{val_categorical_accuracy:.2f}.hdf5'\n",
    "checkpoints = ModelCheckpoint(CP_PATH, monitor='val_categorical_accuracy', verbose=1, save_best_only=True, mode='max')\n",
    "\n",
    "\n",
    "early_stop = EarlyStopping(monitor='val_loss', patience=3, verbose=3)\n",
    "log_csv = CSVLogger('test_log.csv', separator=',', append=False)\n",
    "callback_list = [checkpoints, early_stop, log_csv]"
   ]
  },
  {
   "cell_type": "code",
   "execution_count": 104,
   "id": "aba6a7ed",
   "metadata": {},
   "outputs": [
    {
     "name": "stdout",
     "output_type": "stream",
     "text": [
      "Epoch 1/50\n",
      "140/141 [============================>.] - ETA: 0s - loss: 1.5397 - categorical_accuracy: 0.4654\n",
      "Epoch 1: val_categorical_accuracy improved from -inf to 0.39496, saving model to checkpoints\\cp-01-0.39.hdf5\n",
      "141/141 [==============================] - 2s 10ms/step - loss: 1.5372 - categorical_accuracy: 0.4666 - val_loss: 1.8483 - val_categorical_accuracy: 0.3950\n",
      "Epoch 2/50\n",
      "138/141 [============================>.] - ETA: 0s - loss: 0.9457 - categorical_accuracy: 0.6615\n",
      "Epoch 2: val_categorical_accuracy improved from 0.39496 to 0.58403, saving model to checkpoints\\cp-02-0.58.hdf5\n",
      "141/141 [==============================] - 1s 7ms/step - loss: 0.9418 - categorical_accuracy: 0.6628 - val_loss: 1.2383 - val_categorical_accuracy: 0.5840\n",
      "Epoch 3/50\n",
      "139/141 [============================>.] - ETA: 0s - loss: 0.7021 - categorical_accuracy: 0.7669\n",
      "Epoch 3: val_categorical_accuracy improved from 0.58403 to 0.62605, saving model to checkpoints\\cp-03-0.63.hdf5\n",
      "141/141 [==============================] - 1s 7ms/step - loss: 0.7039 - categorical_accuracy: 0.7656 - val_loss: 1.0228 - val_categorical_accuracy: 0.6261\n",
      "Epoch 4/50\n",
      "138/141 [============================>.] - ETA: 0s - loss: 0.5456 - categorical_accuracy: 0.8127\n",
      "Epoch 4: val_categorical_accuracy improved from 0.62605 to 0.68067, saving model to checkpoints\\cp-04-0.68.hdf5\n",
      "141/141 [==============================] - 1s 7ms/step - loss: 0.5463 - categorical_accuracy: 0.8124 - val_loss: 0.8717 - val_categorical_accuracy: 0.6807\n",
      "Epoch 5/50\n",
      "141/141 [==============================] - ETA: 0s - loss: 0.4206 - categorical_accuracy: 0.8586\n",
      "Epoch 5: val_categorical_accuracy did not improve from 0.68067\n",
      "141/141 [==============================] - 1s 7ms/step - loss: 0.4206 - categorical_accuracy: 0.8586 - val_loss: 1.1102 - val_categorical_accuracy: 0.6471\n",
      "Epoch 6/50\n",
      "136/141 [===========================>..] - ETA: 0s - loss: 0.3321 - categorical_accuracy: 0.8938\n",
      "Epoch 6: val_categorical_accuracy improved from 0.68067 to 0.69328, saving model to checkpoints\\cp-06-0.69.hdf5\n",
      "141/141 [==============================] - 1s 7ms/step - loss: 0.3312 - categorical_accuracy: 0.8935 - val_loss: 0.9430 - val_categorical_accuracy: 0.6933\n",
      "Epoch 7/50\n",
      "134/141 [===========================>..] - ETA: 0s - loss: 0.2352 - categorical_accuracy: 0.9270\n",
      "Epoch 7: val_categorical_accuracy improved from 0.69328 to 0.70588, saving model to checkpoints\\cp-07-0.71.hdf5\n",
      "141/141 [==============================] - 1s 7ms/step - loss: 0.2390 - categorical_accuracy: 0.9259 - val_loss: 1.0197 - val_categorical_accuracy: 0.7059\n",
      "Epoch 7: early stopping\n"
     ]
    }
   ],
   "source": [
    "with tf.device('/gpu:0'):\n",
    "    history = model.fit(x_train, y_train, epochs = 50, \n",
    "                        callbacks=callback_list,\n",
    "                        validation_data = (x_eval, y_eval))\n",
    "    model.save('test_model1.h5')\n"
   ]
  },
  {
   "cell_type": "code",
   "execution_count": 105,
   "id": "f2c59381",
   "metadata": {},
   "outputs": [
    {
     "data": {
      "text/plain": [
       "(0.0, 6.0)"
      ]
     },
     "execution_count": 105,
     "metadata": {},
     "output_type": "execute_result"
    },
    {
     "data": {
      "image/png": "[encoded data removed]",
      "text/plain": [
       "<Figure size 1152x720 with 1 Axes>"
      ]
     },
     "metadata": {
      "needs_background": "light"
     },
     "output_type": "display_data"
    }
   ],
   "source": [
    "plt.figure(figsize=(16,10))\n",
    "val = plt.plot(history.epoch, \n",
    "           history.history['val_categorical_accuracy'],\n",
    "           '--', \n",
    "               label='Val')\n",
    "plt.plot(history.epoch, \n",
    "         history.history['categorical_accuracy'], \n",
    "         color=val[0].get_color(), \n",
    "         label='Train')\n",
    "plt.plot(history.epoch, \n",
    "         history.history['loss'], \n",
    "         label='loss')\n",
    "plt.plot(history.epoch, \n",
    "         history.history['val_loss'], \n",
    "         label='val_loss')\n",
    "plt.xlabel('Epochs')\n",
    "plt.ylabel('categorical_accuracy')\n",
    "plt.legend()\n",
    "plt.xlim([0,max(history.epoch)])"
   ]
  },
  {
   "cell_type": "code",
   "execution_count": 106,
   "id": "04608dc0",
   "metadata": {},
   "outputs": [
    {
     "name": "stdout",
     "output_type": "stream",
     "text": [
      "8/8 [==============================] - 0s 3ms/step - loss: 0.9468 - categorical_accuracy: 0.7120\n"
     ]
    }
   ],
   "source": [
    "test_error, accuracy = model.evaluate(x_test, y_test, verbose=1)"
   ]
  },
  {
   "cell_type": "code",
   "execution_count": 113,
   "id": "b41d9dd9",
   "metadata": {},
   "outputs": [
    {
     "data": {
      "text/plain": [
       "(250, 1, 1, 1, 1, 259, 13, 1)"
      ]
     },
     "execution_count": 113,
     "metadata": {},
     "output_type": "execute_result"
    }
   ],
   "source": [
    "x_test = np.expand_dims(x_test, axis=1)\n",
    "x_test.shape"
   ]
  },
  {
   "cell_type": "code",
   "execution_count": 116,
   "id": "8b0f28e0",
   "metadata": {},
   "outputs": [
    {
     "name": "stdout",
     "output_type": "stream",
     "text": [
      "[0 4 9 6 6 0 9 7 9 7 2 3 6 7 4 5 9 7 2 3 7 1 5 6 7 2 7 5 7 7 7 2 4 1 7 2 7\n",
      " 1 1 9 6 4 0 2 0 8 7 7 3 2 4 8 5 2 9 3 7 3 4 1 0 8 8 8 9 8 8 3 3 7 2 7 2 1\n",
      " 0 7 2 8 1 0 4 0 4 7 9 5 6 6 9 0 0 2 1 9 0 6 9 5 6 1 9 8 1 6 6 2 7 2 4 8 4\n",
      " 2 7 2 8 2 4 1 7 7 2 4 1 7 7 2 4 7 3 7 2 3 5 7 2 5 4 7 6 4 0 3 9 5 6 8 5 7\n",
      " 4 3 9 9 2 9 6 0 4 8 6 5 0 9 6 4 0 4 9 1 6 0 4 4 2 6 8 3 2 7 4 2 9 8 2 4 6\n",
      " 7 0 8 1 3 9 0 1 6 2 4 4 5 6 2 5 7 2 3 2 9 8 1 7 3 2 8 1 8 3 7 2 2 9 7 3 9\n",
      " 5 9 3 5 1 6 9 1 2 4 1 3 5 7 1 7 8 1 1 3 7 6 3 0 9 7 4 2] -> [[1. 0. 0. ... 0. 0. 0.]\n",
      " [0. 0. 0. ... 0. 0. 0.]\n",
      " [0. 0. 0. ... 0. 0. 1.]\n",
      " ...\n",
      " [0. 0. 0. ... 1. 0. 0.]\n",
      " [0. 0. 0. ... 0. 0. 0.]\n",
      " [0. 0. 1. ... 0. 0. 0.]]\n"
     ]
    }
   ],
   "source": [
    "pred = model.predict(x_test)\n",
    "p_idx = np.argmax(pred, axis=1)\n",
    "print(f'{p_idx} -> {y_test}')"
   ]
  },
  {
   "cell_type": "code",
   "execution_count": null,
   "id": "fa997428",
   "metadata": {},
   "outputs": [],
   "source": []
  }
 ],
 "metadata": {
  "kernelspec": {
   "display_name": "Python 3 (ipykernel)",
   "language": "python",
   "name": "python3"
  },
  "language_info": {
   "codemirror_mode": {
    "name": "ipython",
    "version": 3
   },
   "file_extension": ".py",
   "mimetype": "text/x-python",
   "name": "python",
   "nbconvert_exporter": "python",
   "pygments_lexer": "ipython3",
   "version": "3.9.8"
  }
 },
 "nbformat": 4,
 "nbformat_minor": 5
}
