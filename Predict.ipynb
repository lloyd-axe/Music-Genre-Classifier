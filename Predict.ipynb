{
 "cells": [
  {
   "cell_type": "code",
   "execution_count": 1,
   "id": "92824216",
   "metadata": {},
   "outputs": [],
   "source": [
    "import os\n",
    "import tensorflow as tf\n",
    "from MusicGenreClassifier import MusicGenreClassifier"
   ]
  },
  {
   "cell_type": "code",
   "execution_count": 6,
   "id": "1f66e53e",
   "metadata": {},
   "outputs": [],
   "source": [
    "TEST_PATH = r'~\\Music Genre Classification\\sample_music'\n",
    "model = tf.keras.models.load_model('test-model.h5')"
   ]
  },
  {
   "cell_type": "code",
   "execution_count": 7,
   "id": "cd770f19",
   "metadata": {},
   "outputs": [
    {
     "data": {
      "text/plain": [
       "'~\\\\Music Genre Classification\\\\sample_music\\\\ACDC - Back in Black.wav'"
      ]
     },
     "execution_count": 7,
     "metadata": {},
     "output_type": "execute_result"
    }
   ],
   "source": [
    "file_name = 'ACDC - Back in Black.wav'\n",
    "FILE_PATH = os.path.join(TEST_PATH, file_name)\n",
    "FILE_PATH"
   ]
  },
  {
   "cell_type": "code",
   "execution_count": 5,
   "id": "268a4197",
   "metadata": {},
   "outputs": [
    {
     "name": "stdout",
     "output_type": "stream",
     "text": [
      "Loading audio file...\n",
      "ACDC - Back in Black is in the rock genre.\n"
     ]
    }
   ],
   "source": [
    "data = MusicGenreClassifier.get_sample(FILE_PATH, duration = 30)\n",
    "model = tf.keras.models.load_model('test-model.h5')\n",
    "genre = MusicGenreClassifier.predict_genre(model, data)\n",
    "print(f\"{file_name.split('.')[0]} is in the {genre} genre.\")"
   ]
  },
  {
   "cell_type": "code",
   "execution_count": null,
   "id": "2ee4a306",
   "metadata": {},
   "outputs": [],
   "source": []
  }
 ],
 "metadata": {
  "kernelspec": {
   "display_name": "Python 3 (ipykernel)",
   "language": "python",
   "name": "python3"
  },
  "language_info": {
   "codemirror_mode": {
    "name": "ipython",
    "version": 3
   },
   "file_extension": ".py",
   "mimetype": "text/x-python",
   "name": "python",
   "nbconvert_exporter": "python",
   "pygments_lexer": "ipython3",
   "version": "3.9.8"
  }
 },
 "nbformat": 4,
 "nbformat_minor": 5
}
