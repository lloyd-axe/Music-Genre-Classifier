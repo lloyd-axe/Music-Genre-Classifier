{
 "cells": [
  {
   "cell_type": "markdown",
   "id": "892322a5",
   "metadata": {},
   "source": [
    "# MusicGenreClassifier Implementation"
   ]
  },
  {
   "cell_type": "code",
   "execution_count": 23,
   "id": "92824216",
   "metadata": {},
   "outputs": [],
   "source": [
    "import os\n",
    "import librosa.display\n",
    "import tensorflow as tf\n",
    "from MusicGenreClassifier import MusicGenreClassifier"
   ]
  },
  {
   "cell_type": "markdown",
   "id": "b7464b5e",
   "metadata": {},
   "source": [
    "Assuming you already have a trained model and a sample .wav file.\n",
    "You can simple use the **get_sample** method to collect mfcc data from the audio file.\n",
    "Then, use the **predict_genre** to classify the main genre of the file."
   ]
  },
  {
   "cell_type": "code",
   "execution_count": 31,
   "id": "1f66e53e",
   "metadata": {},
   "outputs": [],
   "source": [
    "TEST_PATH = 'sample_music'\n",
    "model = tf.keras.models.load_model('test-model.h5')"
   ]
  },
  {
   "cell_type": "code",
   "execution_count": 25,
   "id": "cd770f19",
   "metadata": {},
   "outputs": [
    {
     "data": {
      "text/plain": [
       "'sample_music\\\\ACDC - Back in Black.wav'"
      ]
     },
     "execution_count": 25,
     "metadata": {},
     "output_type": "execute_result"
    }
   ],
   "source": [
    "file_name = 'ACDC - Back in Black.wav'\n",
    "FILE_PATH = os.path.join(TEST_PATH, file_name)\n",
    "FILE_PATH"
   ]
  },
  {
   "cell_type": "code",
   "execution_count": 29,
   "id": "268a4197",
   "metadata": {},
   "outputs": [
    {
     "name": "stdout",
     "output_type": "stream",
     "text": [
      "Loading audio file...\n"
     ]
    },
    {
     "data": {
      "text/plain": [
       "<matplotlib.collections.QuadMesh at 0x252593f2d00>"
      ]
     },
     "execution_count": 29,
     "metadata": {},
     "output_type": "execute_result"
    },
    {
     "data": {
      "image/png": "[encoded data removed]",
      "text/plain": [
       "<Figure size 432x288 with 1 Axes>"
      ]
     },
     "metadata": {},
     "output_type": "display_data"
    }
   ],
   "source": [
    "data = MusicGenreClassifier.get_sample(FILE_PATH, duration = 30)\n",
    "librosa.display.specshow(np.array(data[4]), sr = 22050, hop_length = 512)"
   ]
  },
  {
   "cell_type": "code",
   "execution_count": 30,
   "id": "2ee4a306",
   "metadata": {},
   "outputs": [
    {
     "name": "stdout",
     "output_type": "stream",
     "text": [
      "ACDC - Back in Black is in the rock genre.\n"
     ]
    }
   ],
   "source": [
    "model = tf.keras.models.load_model('test-model.h5')\n",
    "genre = MusicGenreClassifier.predict_genre(model, data)\n",
    "print(f\"{file_name.split('.')[0]} is in the {genre} genre.\")"
   ]
  },
  {
   "cell_type": "code",
   "execution_count": null,
   "id": "4707d398",
   "metadata": {},
   "outputs": [],
   "source": []
  }
 ],
 "metadata": {
  "kernelspec": {
   "display_name": "Python 3 (ipykernel)",
   "language": "python",
   "name": "python3"
  },
  "language_info": {
   "codemirror_mode": {
    "name": "ipython",
    "version": 3
   },
   "file_extension": ".py",
   "mimetype": "text/x-python",
   "name": "python",
   "nbconvert_exporter": "python",
   "pygments_lexer": "ipython3",
   "version": "3.9.8"
  }
 },
 "nbformat": 4,
 "nbformat_minor": 5
}
